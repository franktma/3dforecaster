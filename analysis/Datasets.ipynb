{
 "cells": [
  {
   "cell_type": "code",
   "execution_count": 1,
   "metadata": {
    "collapsed": true
   },
   "outputs": [],
   "source": [
    "# standing data tools\n",
    "import pandas as pd\n",
    "import numpy as np\n",
    "import matplotlib.pyplot as plt\n",
    "import seaborn as sns\n",
    "\n",
    "# sklearn\n",
    "from sklearn.preprocessing import scale\n",
    "import sklearn.linear_model as skl_lm\n",
    "from sklearn.metrics import mean_squared_error, r2_score, mean_absolute_error\n",
    "import statsmodels.api as sm\n",
    "import statsmodels.formula.api as smf\n",
    "# persistence\n",
    "from sklearn.externals import joblib\n",
    "\n",
    "plt.style.use('seaborn-white')\n",
    "%matplotlib inline"
   ]
  },
  {
   "cell_type": "code",
   "execution_count": 57,
   "metadata": {
    "collapsed": false
   },
   "outputs": [
    {
     "name": "stdout",
     "output_type": "stream",
     "text": [
      "<class 'pandas.core.frame.DataFrame'>\n",
      "Int64Index: 4628 entries, 0 to 4627\n",
      "Data columns (total 13 columns):\n",
      "File                  4628 non-null object\n",
      "Runtime(s)            4628 non-null int64\n",
      "Fill Vol(mm^3)        4628 non-null int64\n",
      "Support Vol(mm^3)     4628 non-null int64\n",
      "Layer Height(mm)      4628 non-null float64\n",
      "Mesh Volume(mm^3)     4628 non-null float64\n",
      "X                     4628 non-null float64\n",
      "Y                     4628 non-null float64\n",
      "Z                     4628 non-null float64\n",
      "BB Vol(mm^3)          4628 non-null float64\n",
      "CVHull Vol(mm^3)      4628 non-null float64\n",
      "Surface Area(mm^2)    4628 non-null float64\n",
      "Euler                 4628 non-null int64\n",
      "dtypes: float64(8), int64(4), object(1)\n",
      "memory usage: 506.2+ KB\n"
     ]
    }
   ],
   "source": [
    "# The original 4k: slicer + mesh\n",
    "data=pd.read_csv('../data/round2/batch1_usable_4k_for_merge.csv')\n",
    "data.dropna(inplace=True)\n",
    "data.info()"
   ]
  },
  {
   "cell_type": "code",
   "execution_count": 58,
   "metadata": {
    "collapsed": false
   },
   "outputs": [
    {
     "name": "stdout",
     "output_type": "stream",
     "text": [
      "<class 'pandas.core.frame.DataFrame'>\n",
      "Int64Index: 4628 entries, 0 to 4627\n",
      "Data columns (total 32 columns):\n",
      "File                4628 non-null object\n",
      "Load Time           4628 non-null float64\n",
      "File Size           4628 non-null int64\n",
      "Time                4628 non-null float64\n",
      "Watertight          4628 non-null bool\n",
      "Time.1              4628 non-null float64\n",
      "X                   4628 non-null float64\n",
      "Y                   4628 non-null float64\n",
      "Z                   4628 non-null float64\n",
      "Time.2              4628 non-null float64\n",
      "Volume              4628 non-null float64\n",
      "Time.3              4628 non-null float64\n",
      "Surface Area        4628 non-null float64\n",
      "Time.4              4628 non-null float64\n",
      "BB Vol              4628 non-null float64\n",
      "Time.5              4628 non-null float64\n",
      "BC vol              4628 non-null float64\n",
      "BC rad              4628 non-null float64\n",
      "Time.6              4628 non-null float64\n",
      "BS vol              4628 non-null float64\n",
      "Time.7              4628 non-null float64\n",
      "min primitive       4628 non-null object\n",
      "CVHull Vol          4628 non-null float64\n",
      "Time.8              4628 non-null float64\n",
      "Euler Number        4628 non-null int64\n",
      "Time.9              4628 non-null float64\n",
      "DownArea            4628 non-null float64\n",
      "Adj DownArea        4628 non-null float64\n",
      "Ang DownArea        4628 non-null float64\n",
      "Adj Ang DownArea    4628 non-null float64\n",
      "Time.10             4628 non-null float64\n",
      "Total Time          4628 non-null float64\n",
      "dtypes: bool(1), float64(27), int64(2), object(2)\n",
      "memory usage: 1.1+ MB\n"
     ]
    }
   ],
   "source": [
    "#Load the updated mesh run with process times\n",
    "meshdata=pd.read_csv('../data/round2/batch1_usable_4k_trimesh_info_and_runtime.csv')\n",
    "meshdata.dropna(axis=1,thresh=1,inplace=True)\n",
    "meshdata.dropna(axis=0,how='any',inplace=True)\n",
    "meshdata.info()"
   ]
  },
  {
   "cell_type": "code",
   "execution_count": 59,
   "metadata": {
    "collapsed": false
   },
   "outputs": [
    {
     "name": "stdout",
     "output_type": "stream",
     "text": [
      "<class 'pandas.core.frame.DataFrame'>\n",
      "Int64Index: 4627 entries, 0 to 4627\n",
      "Data columns (total 10 columns):\n",
      "File             4627 non-null object\n",
      "Load Time        4627 non-null float64\n",
      "File Size        4627 non-null int64\n",
      "Time             4627 non-null float64\n",
      "minz             4627 non-null float64\n",
      "down area        4627 non-null float64\n",
      "adj down area    4627 non-null float64\n",
      "ang down area    4627 non-null float64\n",
      "magic number     4627 non-null float64\n",
      "total time       4627 non-null float64\n",
      "dtypes: float64(8), int64(1), object(1)\n",
      "memory usage: 397.6+ KB\n"
     ]
    }
   ],
   "source": [
    "#Load the mesh info with magic info\n",
    "meshdata2=pd.read_csv('../data/round2/batch1_usable_4k_trimesh_info_Jun9_corr_magic.csv')\n",
    "meshdata2.dropna(axis=1,thresh=1,inplace=True)\n",
    "meshdata2.dropna(axis=0,how='any',inplace=True)\n",
    "meshdata2.info()"
   ]
  },
  {
   "cell_type": "markdown",
   "metadata": {},
   "source": [
    "### “list of viable files” filter:\n",
    "1. if stl file > 10 MB\n",
    "2. if !watertight\n",
    "3. if multiple bodies\n",
    "4. if mesh.volume < 0\n",
    "5. mesh.boudning_box.volume < 16387.1 (1 inch^3 cubic of volume)"
   ]
  },
  {
   "cell_type": "code",
   "execution_count": 60,
   "metadata": {
    "collapsed": false
   },
   "outputs": [
    {
     "name": "stdout",
     "output_type": "stream",
     "text": [
      "<class 'pandas.core.frame.DataFrame'>\n",
      "Int64Index: 3140 entries, 0 to 3139\n",
      "Data columns (total 1 columns):\n",
      "File    3140 non-null object\n",
      "dtypes: object(1)\n",
      "memory usage: 49.1+ KB\n"
     ]
    }
   ],
   "source": [
    "goodlist=pd.read_csv('../data/round2/viable_meshes_from_10k.csv')\n",
    "goodlist.dropna(axis=1,thresh=1,inplace=True)\n",
    "goodlist.dropna(axis=0,how='any',inplace=True)\n",
    "goodlist.info()"
   ]
  },
  {
   "cell_type": "code",
   "execution_count": 61,
   "metadata": {
    "collapsed": false
   },
   "outputs": [
    {
     "name": "stdout",
     "output_type": "stream",
     "text": [
      "<class 'pandas.core.frame.DataFrame'>\n",
      "Int64Index: 4628 entries, 0 to 4627\n",
      "Data columns (total 44 columns):\n",
      "File                  4628 non-null object\n",
      "Runtime(s)            4628 non-null int64\n",
      "Fill Vol(mm^3)        4628 non-null int64\n",
      "Support Vol(mm^3)     4628 non-null int64\n",
      "Layer Height(mm)      4628 non-null float64\n",
      "Mesh Volume(mm^3)     4628 non-null float64\n",
      "X_x                   4628 non-null float64\n",
      "Y_x                   4628 non-null float64\n",
      "Z_x                   4628 non-null float64\n",
      "BB Vol(mm^3)          4628 non-null float64\n",
      "CVHull Vol(mm^3)      4628 non-null float64\n",
      "Surface Area(mm^2)    4628 non-null float64\n",
      "Euler                 4628 non-null int64\n",
      "Load Time             4628 non-null float64\n",
      "File Size             4628 non-null int64\n",
      "Time                  4628 non-null float64\n",
      "Watertight            4628 non-null bool\n",
      "Time.1                4628 non-null float64\n",
      "X_y                   4628 non-null float64\n",
      "Y_y                   4628 non-null float64\n",
      "Z_y                   4628 non-null float64\n",
      "Time.2                4628 non-null float64\n",
      "Volume                4628 non-null float64\n",
      "Time.3                4628 non-null float64\n",
      "Surface Area          4628 non-null float64\n",
      "Time.4                4628 non-null float64\n",
      "BB Vol                4628 non-null float64\n",
      "Time.5                4628 non-null float64\n",
      "BC vol                4628 non-null float64\n",
      "BC rad                4628 non-null float64\n",
      "Time.6                4628 non-null float64\n",
      "BS vol                4628 non-null float64\n",
      "Time.7                4628 non-null float64\n",
      "min primitive         4628 non-null object\n",
      "CVHull Vol            4628 non-null float64\n",
      "Time.8                4628 non-null float64\n",
      "Euler Number          4628 non-null int64\n",
      "Time.9                4628 non-null float64\n",
      "DownArea              4628 non-null float64\n",
      "Adj DownArea          4628 non-null float64\n",
      "Ang DownArea          4628 non-null float64\n",
      "Adj Ang DownArea      4628 non-null float64\n",
      "Time.10               4628 non-null float64\n",
      "Total Time            4628 non-null float64\n",
      "dtypes: bool(1), float64(35), int64(6), object(2)\n",
      "memory usage: 1.6+ MB\n"
     ]
    }
   ],
   "source": [
    "# Now Merge\n",
    "mergeddata=pd.merge(data, meshdata, on='File', how='inner')\n",
    "mergeddata.info()"
   ]
  },
  {
   "cell_type": "code",
   "execution_count": 62,
   "metadata": {
    "collapsed": false
   },
   "outputs": [
    {
     "name": "stdout",
     "output_type": "stream",
     "text": [
      "<class 'pandas.core.frame.DataFrame'>\n",
      "Int64Index: 4627 entries, 0 to 4626\n",
      "Data columns (total 53 columns):\n",
      "File                  4627 non-null object\n",
      "Runtime(s)            4627 non-null int64\n",
      "Fill Vol(mm^3)        4627 non-null int64\n",
      "Support Vol(mm^3)     4627 non-null int64\n",
      "Layer Height(mm)      4627 non-null float64\n",
      "Mesh Volume(mm^3)     4627 non-null float64\n",
      "X_x                   4627 non-null float64\n",
      "Y_x                   4627 non-null float64\n",
      "Z_x                   4627 non-null float64\n",
      "BB Vol(mm^3)          4627 non-null float64\n",
      "CVHull Vol(mm^3)      4627 non-null float64\n",
      "Surface Area(mm^2)    4627 non-null float64\n",
      "Euler                 4627 non-null int64\n",
      "Load Time_x           4627 non-null float64\n",
      "File Size_x           4627 non-null int64\n",
      "Time_x                4627 non-null float64\n",
      "Watertight            4627 non-null bool\n",
      "Time.1                4627 non-null float64\n",
      "X_y                   4627 non-null float64\n",
      "Y_y                   4627 non-null float64\n",
      "Z_y                   4627 non-null float64\n",
      "Time.2                4627 non-null float64\n",
      "Volume                4627 non-null float64\n",
      "Time.3                4627 non-null float64\n",
      "Surface Area          4627 non-null float64\n",
      "Time.4                4627 non-null float64\n",
      "BB Vol                4627 non-null float64\n",
      "Time.5                4627 non-null float64\n",
      "BC vol                4627 non-null float64\n",
      "BC rad                4627 non-null float64\n",
      "Time.6                4627 non-null float64\n",
      "BS vol                4627 non-null float64\n",
      "Time.7                4627 non-null float64\n",
      "min primitive         4627 non-null object\n",
      "CVHull Vol            4627 non-null float64\n",
      "Time.8                4627 non-null float64\n",
      "Euler Number          4627 non-null int64\n",
      "Time.9                4627 non-null float64\n",
      "DownArea              4627 non-null float64\n",
      "Adj DownArea          4627 non-null float64\n",
      "Ang DownArea          4627 non-null float64\n",
      "Adj Ang DownArea      4627 non-null float64\n",
      "Time.10               4627 non-null float64\n",
      "Total Time            4627 non-null float64\n",
      "Load Time_y           4627 non-null float64\n",
      "File Size_y           4627 non-null int64\n",
      "Time_y                4627 non-null float64\n",
      "minz                  4627 non-null float64\n",
      "down area             4627 non-null float64\n",
      "adj down area         4627 non-null float64\n",
      "ang down area         4627 non-null float64\n",
      "magic number          4627 non-null float64\n",
      "total time            4627 non-null float64\n",
      "dtypes: bool(1), float64(43), int64(7), object(2)\n",
      "memory usage: 1.9+ MB\n",
      "4627\n",
      "3497\n"
     ]
    }
   ],
   "source": [
    "mergeddata=pd.merge(mergeddata, meshdata2, on='File', how='inner')\n",
    "mergeddata.info()\n",
    "# check\n",
    "print len(mergeddata)\n",
    "print len(mergeddata[mergeddata['Watertight']==True])"
   ]
  },
  {
   "cell_type": "code",
   "execution_count": 63,
   "metadata": {
    "collapsed": false
   },
   "outputs": [
    {
     "name": "stdout",
     "output_type": "stream",
     "text": [
      "<class 'pandas.core.frame.DataFrame'>\n",
      "Int64Index: 1478 entries, 0 to 1477\n",
      "Data columns (total 53 columns):\n",
      "File                  1478 non-null object\n",
      "Runtime(s)            1478 non-null int64\n",
      "Fill Vol(mm^3)        1478 non-null int64\n",
      "Support Vol(mm^3)     1478 non-null int64\n",
      "Layer Height(mm)      1478 non-null float64\n",
      "Mesh Volume(mm^3)     1478 non-null float64\n",
      "X_x                   1478 non-null float64\n",
      "Y_x                   1478 non-null float64\n",
      "Z_x                   1478 non-null float64\n",
      "BB Vol(mm^3)          1478 non-null float64\n",
      "CVHull Vol(mm^3)      1478 non-null float64\n",
      "Surface Area(mm^2)    1478 non-null float64\n",
      "Euler                 1478 non-null int64\n",
      "Load Time_x           1478 non-null float64\n",
      "File Size_x           1478 non-null int64\n",
      "Time_x                1478 non-null float64\n",
      "Watertight            1478 non-null bool\n",
      "Time.1                1478 non-null float64\n",
      "X_y                   1478 non-null float64\n",
      "Y_y                   1478 non-null float64\n",
      "Z_y                   1478 non-null float64\n",
      "Time.2                1478 non-null float64\n",
      "Volume                1478 non-null float64\n",
      "Time.3                1478 non-null float64\n",
      "Surface Area          1478 non-null float64\n",
      "Time.4                1478 non-null float64\n",
      "BB Vol                1478 non-null float64\n",
      "Time.5                1478 non-null float64\n",
      "BC vol                1478 non-null float64\n",
      "BC rad                1478 non-null float64\n",
      "Time.6                1478 non-null float64\n",
      "BS vol                1478 non-null float64\n",
      "Time.7                1478 non-null float64\n",
      "min primitive         1478 non-null object\n",
      "CVHull Vol            1478 non-null float64\n",
      "Time.8                1478 non-null float64\n",
      "Euler Number          1478 non-null int64\n",
      "Time.9                1478 non-null float64\n",
      "DownArea              1478 non-null float64\n",
      "Adj DownArea          1478 non-null float64\n",
      "Ang DownArea          1478 non-null float64\n",
      "Adj Ang DownArea      1478 non-null float64\n",
      "Time.10               1478 non-null float64\n",
      "Total Time            1478 non-null float64\n",
      "Load Time_y           1478 non-null float64\n",
      "File Size_y           1478 non-null int64\n",
      "Time_y                1478 non-null float64\n",
      "minz                  1478 non-null float64\n",
      "down area             1478 non-null float64\n",
      "adj down area         1478 non-null float64\n",
      "ang down area         1478 non-null float64\n",
      "magic number          1478 non-null float64\n",
      "total time            1478 non-null float64\n",
      "dtypes: bool(1), float64(43), int64(7), object(2)\n",
      "memory usage: 613.4+ KB\n"
     ]
    }
   ],
   "source": [
    "# Now Apply Good file Filter\n",
    "mergeddata=pd.merge(mergeddata, goodlist, on='File', how='inner')\n",
    "mergeddata.info()"
   ]
  },
  {
   "cell_type": "code",
   "execution_count": 64,
   "metadata": {
    "collapsed": true
   },
   "outputs": [],
   "source": [
    "# finally export\n",
    "mergeddata.to_csv('../data/round2/batch1_usable_goodlist_corrmag.csv')"
   ]
  },
  {
   "cell_type": "code",
   "execution_count": 65,
   "metadata": {
    "collapsed": false
   },
   "outputs": [
    {
     "name": "stdout",
     "output_type": "stream",
     "text": [
      "1478\n",
      "1478\n"
     ]
    }
   ],
   "source": [
    "# check\n",
    "print len(mergeddata)\n",
    "sd=mergeddata[mergeddata['Watertight']==True]\n",
    "print len(sd)"
   ]
  },
  {
   "cell_type": "code",
   "execution_count": 8,
   "metadata": {
    "collapsed": false
   },
   "outputs": [
    {
     "name": "stdout",
     "output_type": "stream",
     "text": [
      "<class 'pandas.core.frame.DataFrame'>\n",
      "Int64Index: 3054 entries, 0 to 3139\n",
      "Data columns (total 7 columns):\n",
      "File                  3054 non-null object\n",
      "Output                3054 non-null object\n",
      "Cura Setting          3054 non-null object\n",
      "Layer Height          3054 non-null float64\n",
      "Runtime (s)           3054 non-null int64\n",
      "Fill Vol (mm^3)       3054 non-null int64\n",
      "Support Vol (mm^3)    3054 non-null float64\n",
      "dtypes: float64(2), int64(2), object(3)\n",
      "memory usage: 190.9+ KB\n"
     ]
    }
   ],
   "source": [
    "# The full sim dataset\n",
    "slicerall=pd.read_csv('../data/round2/batch2_all_viable_cura_info.csv')\n",
    "slicerall.dropna(inplace=True)\n",
    "slicerall.info()"
   ]
  },
  {
   "cell_type": "code",
   "execution_count": 3,
   "metadata": {
    "collapsed": false
   },
   "outputs": [
    {
     "name": "stdout",
     "output_type": "stream",
     "text": [
      "<class 'pandas.core.frame.DataFrame'>\n",
      "Int64Index: 3139 entries, 0 to 3139\n",
      "Data columns (total 36 columns):\n",
      "File             3139 non-null object\n",
      "Load Time        3139 non-null float64\n",
      "File Size        3139 non-null int64\n",
      "Time             3139 non-null float64\n",
      "Watertight       3139 non-null bool\n",
      "Time.1           3139 non-null float64\n",
      "NumBodies        3139 non-null float64\n",
      "Time.2           3139 non-null float64\n",
      "minZ             3139 non-null float64\n",
      "Time.3           3139 non-null float64\n",
      "X                3139 non-null float64\n",
      "Y                3139 non-null float64\n",
      "Z                3139 non-null float64\n",
      "Time.4           3139 non-null float64\n",
      "Volume           3139 non-null float64\n",
      "Time.5           3139 non-null float64\n",
      "Surface Area     3139 non-null float64\n",
      "Time.6           3139 non-null float64\n",
      "BB Vol           3139 non-null float64\n",
      "Time.7           3139 non-null float64\n",
      "BC vol           3139 non-null float64\n",
      "BC rad           3139 non-null float64\n",
      "Time.8           3139 non-null float64\n",
      "BS vol           3139 non-null float64\n",
      "Time.9           3139 non-null float64\n",
      "min primitive    3139 non-null object\n",
      "CVHull Vol       3139 non-null float64\n",
      "Time.10          3139 non-null float64\n",
      "Euler Number     3139 non-null float64\n",
      "Time.11          3139 non-null float64\n",
      "DownArea         3139 non-null float64\n",
      "Adj DownArea     3139 non-null float64\n",
      "Ang DownArea     3139 non-null float64\n",
      "Magic Number     3139 non-null float64\n",
      "Time.12          3139 non-null float64\n",
      "Total Time       3139 non-null float64\n",
      "dtypes: bool(1), float64(32), int64(1), object(2)\n",
      "memory usage: 885.9+ KB\n"
     ]
    }
   ],
   "source": [
    "# The full mesh dataset\n",
    "meshall=pd.read_csv('../data/round2/batch2_all_viable_trimesh_info.csv')\n",
    "meshall.dropna(axis=1,thresh=1,inplace=True)\n",
    "meshall.dropna(axis=0,how='any',inplace=True)\n",
    "meshall.info()"
   ]
  },
  {
   "cell_type": "code",
   "execution_count": 5,
   "metadata": {
    "collapsed": false
   },
   "outputs": [
    {
     "name": "stdout",
     "output_type": "stream",
     "text": [
      "<class 'pandas.core.frame.DataFrame'>\n",
      "Int64Index: 3050 entries, 0 to 3049\n",
      "Data columns (total 42 columns):\n",
      "File                  3050 non-null object\n",
      "Output                3050 non-null object\n",
      "Cura Setting          3050 non-null object\n",
      "Layer Height          3050 non-null float64\n",
      "Runtime (s)           3050 non-null int64\n",
      "Fill Vol (mm^3)       3050 non-null int64\n",
      "Support Vol (mm^3)    3050 non-null float64\n",
      "Load Time             3050 non-null float64\n",
      "File Size             3050 non-null int64\n",
      "Time                  3050 non-null float64\n",
      "Watertight            3050 non-null bool\n",
      "Time.1                3050 non-null float64\n",
      "NumBodies             3050 non-null float64\n",
      "Time.2                3050 non-null float64\n",
      "minZ                  3050 non-null float64\n",
      "Time.3                3050 non-null float64\n",
      "X                     3050 non-null float64\n",
      "Y                     3050 non-null float64\n",
      "Z                     3050 non-null float64\n",
      "Time.4                3050 non-null float64\n",
      "Volume                3050 non-null float64\n",
      "Time.5                3050 non-null float64\n",
      "Surface Area          3050 non-null float64\n",
      "Time.6                3050 non-null float64\n",
      "BB Vol                3050 non-null float64\n",
      "Time.7                3050 non-null float64\n",
      "BC vol                3050 non-null float64\n",
      "BC rad                3050 non-null float64\n",
      "Time.8                3050 non-null float64\n",
      "BS vol                3050 non-null float64\n",
      "Time.9                3050 non-null float64\n",
      "min primitive         3050 non-null object\n",
      "CVHull Vol            3050 non-null float64\n",
      "Time.10               3050 non-null float64\n",
      "Euler Number          3050 non-null float64\n",
      "Time.11               3050 non-null float64\n",
      "DownArea              3050 non-null float64\n",
      "Adj DownArea          3050 non-null float64\n",
      "Ang DownArea          3050 non-null float64\n",
      "Magic Number          3050 non-null float64\n",
      "Time.12               3050 non-null float64\n",
      "Total Time            3050 non-null float64\n",
      "dtypes: bool(1), float64(34), int64(3), object(4)\n",
      "memory usage: 1003.8+ KB\n"
     ]
    }
   ],
   "source": [
    "# Now Merge\n",
    "mergedall=pd.merge(slicerall, meshall, on='File', how='inner')\n",
    "mergedall.info()"
   ]
  },
  {
   "cell_type": "code",
   "execution_count": 6,
   "metadata": {
    "collapsed": false
   },
   "outputs": [],
   "source": [
    "mergedall.to_csv('../data/round2/batch2_all_viable_merged_v2.csv')"
   ]
  },
  {
   "cell_type": "code",
   "execution_count": null,
   "metadata": {
    "collapsed": true
   },
   "outputs": [],
   "source": []
  }
 ],
 "metadata": {
  "kernelspec": {
   "display_name": "Python 2",
   "language": "python",
   "name": "python2"
  },
  "language_info": {
   "codemirror_mode": {
    "name": "ipython",
    "version": 2
   },
   "file_extension": ".py",
   "mimetype": "text/x-python",
   "name": "python",
   "nbconvert_exporter": "python",
   "pygments_lexer": "ipython2",
   "version": "2.7.13"
  }
 },
 "nbformat": 4,
 "nbformat_minor": 2
}
